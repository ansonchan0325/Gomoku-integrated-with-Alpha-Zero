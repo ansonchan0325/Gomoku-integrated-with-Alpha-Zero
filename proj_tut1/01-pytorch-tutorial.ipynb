{
 "cells": [
  {
   "cell_type": "markdown",
   "metadata": {},
   "source": [
    "This is a simple pytorch tutorial to teach you how to use pytorch. [Pytorch](https://pytorch.org/) is widely used for deep learning and it supports automatically gradient computing. \n",
    "\n",
    "Let see how pytorch works."
   ]
  },
  {
   "cell_type": "markdown",
   "metadata": {},
   "source": [
    "## 0. Brief Introduction of Pytorch\n",
    "## 0.1 Pytorch: A Brief History\n",
    "\n",
    "The initial release of PyTorch was in October of 2016, and before PyTorch was created, there was and still is, another framework called Torch. [Torch](https://en.wikipedia.org/wiki/Torch_(machine_learning)) is a machine learning framework that's been around for quite a while and is based on the Lua programming language.\n",
    "\n",
    "The connection between PyTorch and this Lua version, called Torch, exists because many of the developers who maintain the Lua version are the individuals who created PyTorch.\n",
    "\n",
    "[Soumith Chintala](https://twitter.com/soumithchintala) is credited with bootstrapping the PyTorch project, and his reason for creating PyTorch is pretty simple, the Lua version of Torch was aging, and so a newer version written in Python was needed. As a result, [PyTorch](https://github.com/pytorch/pytorch/graphs/contributors) came to be.\n",
    "\n",
    "## 0.2 A List of Pytorch Packages\n",
    "\n",
    "This table gives us a list of PyTorch packages and their corresponding descriptions. \n",
    "\n",
    "<p align=\"center\">\n",
    "<img src=\"media/pytorch-package.png\" alt=\"drawing\" width=\"600\"/>\n",
    "</p>\n",
    "\n",
    "## 0.3 Why Pytorch\n",
    "\n",
    "The top reason for learning PyTorch is that it is a **thin** framework that stays out of the way. When we build neural networks with PyTorch, we are super close to programming neural networks **from scratch**. The experience of programming in PyTorch is as close as it gets to the real thing.\n"
   ]
  },
  {
   "cell_type": "markdown",
   "metadata": {},
   "source": [
    "## 1. How to Autograd"
   ]
  },
  {
   "cell_type": "markdown",
   "metadata": {},
   "source": [
    "Since pytorch can compute derivatives automatically (autograd), we show 2 examples of the autograd of pytorch."
   ]
  },
  {
   "cell_type": "markdown",
   "metadata": {},
   "source": [
    "### 1.1 Autograd from Scratch"
   ]
  },
  {
   "cell_type": "code",
   "execution_count": 1,
   "metadata": {},
   "outputs": [],
   "source": [
    "# Import modules\n",
    "import torch # pytorch core module\n",
    "import torchvision # pytorch computer vision module\n",
    "import torch.nn as nn # pytorch standard net module\n",
    "import numpy as np\n",
    "import torchvision.transforms as transforms # scaling function"
   ]
  },
  {
   "cell_type": "markdown",
   "metadata": {},
   "source": [
    "Let us start with the first example, we compute the gradients of `y = w * x + b`"
   ]
  },
  {
   "cell_type": "code",
   "execution_count": 3,
   "metadata": {},
   "outputs": [
    {
     "name": "stdout",
     "output_type": "stream",
     "text": [
      "tensor(2.)\n",
      "tensor(1.)\n",
      "tensor(1.)\n"
     ]
    }
   ],
   "source": [
    "# Create tensors.\n",
    "x = torch.tensor(1., requires_grad=True) # set requires_grad if compute \n",
    "w = torch.tensor(2., requires_grad=True) #                  derivatives\n",
    "b = torch.tensor(3., requires_grad=True)\n",
    "\n",
    "# Build a computational graph.\n",
    "y = w * x + b    # y = 2 * x + 3\n",
    "\n",
    "# Compute gradients.\n",
    "y.backward()\n",
    "\n",
    "# Print out the gradients.\n",
    "print(x.grad)    # x.grad = 2 \n",
    "print(w.grad)    # w.grad = 1 \n",
    "print(b.grad)    # b.grad = 1 "
   ]
  },
  {
   "cell_type": "markdown",
   "metadata": {},
   "source": [
    ">**Remarks:** \n",
    ">After you build the computation graph, you can compute gradients by calling `.backward()` for any equation. The attribute `grad` shows the partial derivatives. For example, `x.grad` shows partial derivative of `y` with respect to `x`."
   ]
  },
  {
   "cell_type": "markdown",
   "metadata": {},
   "source": [
    "### 1.2 Autograd with nn.Linear"
   ]
  },
  {
   "cell_type": "markdown",
   "metadata": {},
   "source": [
    "Actually `y = w * x + b` is a simple linear model. We use `nn.Linear` in this example to show how to create a linear model using pytorch standard module:"
   ]
  },
  {
   "cell_type": "code",
   "execution_count": 4,
   "metadata": {},
   "outputs": [
    {
     "name": "stdout",
     "output_type": "stream",
     "text": [
      "w:  Parameter containing:\n",
      "tensor([[-0.3246, -0.2981,  0.3694],\n",
      "        [ 0.4036,  0.3750,  0.1012]], requires_grad=True)\n",
      "b:  Parameter containing:\n",
      "tensor([0.4615, 0.4306], requires_grad=True)\n"
     ]
    }
   ],
   "source": [
    "# Create tensors of shape (10, 3) and (10, 2).\n",
    "x = torch.randn(10, 3)\n",
    "y = torch.randn(10, 2)\n",
    "\n",
    "# Build a fully connected layer.\n",
    "linear = nn.Linear(3, 2)\n",
    "print ('w: ', linear.weight)\n",
    "print ('b: ', linear.bias)"
   ]
  },
  {
   "cell_type": "markdown",
   "metadata": {},
   "source": [
    ">**Remarks**: `w` and `b` are the weight and bias of the linear model, respectively. They are intialized with random variables. \n",
    "\n",
    "\n",
    "Now we show how to use the linear model `w*x +b` to approximate `y`:"
   ]
  },
  {
   "cell_type": "code",
   "execution_count": 5,
   "metadata": {},
   "outputs": [
    {
     "name": "stdout",
     "output_type": "stream",
     "text": [
      "loss:  1.2083792686462402\n"
     ]
    }
   ],
   "source": [
    "# Build loss function and optimizer.\n",
    "criterion = nn.MSELoss() # Mean Square Error\n",
    "optimizer = torch.optim.SGD(linear.parameters(), lr=0.01) # Stocastic \n",
    "                                                    #Gradient Descend \n",
    "\n",
    "# Forward pass.\n",
    "pred = linear(x)\n",
    "\n",
    "# Compute loss.\n",
    "loss = criterion(pred, y)\n",
    "print('loss: ', loss.item())"
   ]
  },
  {
   "cell_type": "markdown",
   "metadata": {},
   "source": [
    ">**Remarks:** \n",
    "\n",
    ">`MSELOSS` is the loss class called Mean Square Error. \n",
    "\n",
    ">`SDG` is the optimizer class called Stochastic Gradient Descend. We use the loss function to compute the error between the predicted value of the linear model and ground truth."
   ]
  },
  {
   "cell_type": "markdown",
   "metadata": {},
   "source": [
    "Now we optimize the linear model to make its predicted value closed to `y` as much as possible. Let us do one-step optimization:"
   ]
  },
  {
   "cell_type": "code",
   "execution_count": 6,
   "metadata": {},
   "outputs": [
    {
     "name": "stdout",
     "output_type": "stream",
     "text": [
      "dL/dw:  tensor([[-0.0328, -0.0338,  0.4340],\n",
      "        [ 0.3206,  0.2705, -0.1039]])\n",
      "dL/db:  tensor([-0.4588,  0.0141])\n",
      "loss after 1 step optimization:  1.2025305032730103\n"
     ]
    }
   ],
   "source": [
    "# Backward pass.\n",
    "loss.backward()\n",
    "\n",
    "# Print out the gradients.\n",
    "print ('dL/dw: ', linear.weight.grad) \n",
    "print ('dL/db: ', linear.bias.grad)\n",
    "\n",
    "# 1-step gradient descent.\n",
    "optimizer.step()\n",
    "\n",
    "# You can also perform gradient descent at the low level.\n",
    "# linear.weight.data.sub_(0.01 * linear.weight.grad.data)\n",
    "# linear.bias.data.sub_(0.01 * linear.bias.grad.data)\n",
    "\n",
    "# Print out the loss after 1-step gradient descent.\n",
    "pred = linear(x)\n",
    "loss = criterion(pred, y)\n",
    "print('loss after 1 step optimization: ', loss.item())"
   ]
  },
  {
   "cell_type": "markdown",
   "metadata": {},
   "source": [
    "> **Remarks:**  \n",
    "\n",
    ">`loss.backward()` is a function call that compute and refresh the gradients in the computational graph. \n",
    "\n",
    ">`optimizer.step()` is a one-step function for parameter optimzation. Take Gradient Descent as an example, `weight_new = weight_old - learning_rate * gradients`. So the `step()` function will update all the parameters in the computational graph with `weight_new`.\n",
    "\n",
    "Let us do 10-step optimization:"
   ]
  },
  {
   "cell_type": "code",
   "execution_count": 7,
   "metadata": {},
   "outputs": [
    {
     "name": "stdout",
     "output_type": "stream",
     "text": [
      "loss after 10 step optimization:  1.1475090980529785\n"
     ]
    }
   ],
   "source": [
    "for i in range(10):\n",
    "    optimizer.step()\n",
    "\n",
    "# Print out the loss after 10-step gradient descent.\n",
    "pred = linear(x)\n",
    "loss = criterion(pred, y)\n",
    "print('loss after 10 step optimization: ', loss.item())"
   ]
  },
  {
   "cell_type": "markdown",
   "metadata": {},
   "source": [
    ">**Remarks:** Now you can find that the as the steps of optimization increases, the loss decreases. And that means the prediction is more accurate with optimization"
   ]
  },
  {
   "cell_type": "markdown",
   "metadata": {},
   "source": [
    "## 2.How to create torch tensor \n",
    "\n",
    "### 2.1 Create tensor directly \n",
    "\n"
   ]
  },
  {
   "cell_type": "code",
   "execution_count": 8,
   "metadata": {},
   "outputs": [
    {
     "name": "stdout",
     "output_type": "stream",
     "text": [
      "y: tensor([[1, 2],\n",
      "        [3, 4]])\n"
     ]
    }
   ],
   "source": [
    "y = torch.tensor([[1, 2], [3, 4]], dtype=torch.int64)\n",
    "print(f'y: {y}')"
   ]
  },
  {
   "cell_type": "markdown",
   "metadata": {},
   "source": [
    "### 2.2 Create tensor with numpy\n",
    "\n",
    "Now we show how to create a tensor from numpy array:"
   ]
  },
  {
   "cell_type": "code",
   "execution_count": 9,
   "metadata": {},
   "outputs": [
    {
     "name": "stdout",
     "output_type": "stream",
     "text": [
      "x: [[1 2]\n",
      " [3 4]]\n",
      "y: tensor([[1, 2],\n",
      "        [3, 4]])\n",
      "z: [[1 2]\n",
      " [3 4]]\n"
     ]
    }
   ],
   "source": [
    "# Create a numpy array.\n",
    "x = np.array([[1, 2], [3, 4]])\n",
    "\n",
    "# Convert the numpy array to a torch tensor.\n",
    "y = torch.from_numpy(x)\n",
    "\n",
    "# Convert the torch tensor to a numpy array.\n",
    "z = y.numpy()\n",
    "\n",
    "print(f'x: {x}')\n",
    "print(f'y: {y}')\n",
    "print(f'z: {z}')"
   ]
  },
  {
   "cell_type": "markdown",
   "metadata": {},
   "source": [
    "## 3. Deep Learning for MNIST dataset"
   ]
  },
  {
   "cell_type": "markdown",
   "metadata": {},
   "source": [
    "MNIST dataset is a large database for handwritten digits. Here is the [WIKI link](https://en.wikipedia.org/wiki/MNIST_database). In AI area, MNIST dataset is like \"HelloWorld\" Dataset for the classfication task.\n",
    "\n",
    "The MNIST is a bunch of gray-scale handwritten digits with outputs that are ranging from 0, 1, 2, 3 and so on through 9. Each of these images is 28 by 28 pixels in size and the goal is to identify what the number is in these images.\n",
    "\n",
    "Having a detailed look at the documentation, each of the images is labeled with the digit that’s in that image. To access this dataset we will use the Torchvision package which came along when we were installing PyTorch. This library provides us with datasets, and models for tackling computer vision problems.\n",
    "\n",
    "\n",
    ">*Do you know that 25 years ago MNIST was the hardest problem in Computer Vision at the time? 🙂 check out this amazing video of Yann LeCun* \n",
    "“”\n",
    "[https://youtu.be/FwFduRA_L6Q](https://youtu.be/FwFduRA_L6Q)"
   ]
  },
  {
   "cell_type": "markdown",
   "metadata": {},
   "source": [
    "### 3.1 Download MNIST Dataset (Optional)\n",
    "\n",
    "You can **skip** the following instructions since MNIST dataset have been included in our github repository. Here just show you how to download from Internet if you do not have local MNIST dataset."
   ]
  },
  {
   "cell_type": "code",
   "execution_count": 4,
   "metadata": {},
   "outputs": [
    {
     "name": "stdout",
     "output_type": "stream",
     "text": [
      "zsh:1: command not found: brew\r\n"
     ]
    }
   ],
   "source": [
    "## install wget  (uncomment the line based on your local computer system)\n",
    "\n",
    "!brew install wget # for mac\n",
    "# !sudo apt-get install wget # for ubuntu"
   ]
  },
  {
   "cell_type": "code",
   "execution_count": 3,
   "metadata": {},
   "outputs": [
    {
     "name": "stdout",
     "output_type": "stream",
     "text": [
      "zsh:1: command not found: wget\r\n"
     ]
    }
   ],
   "source": [
    "!wget www.di.ens.fr/~lelarge/MNIST.tar.gz # wget download dataset"
   ]
  },
  {
   "cell_type": "markdown",
   "metadata": {},
   "source": [
    "## 3.2 Load Mnist Dataset"
   ]
  },
  {
   "cell_type": "code",
   "execution_count": 5,
   "metadata": {},
   "outputs": [
    {
     "name": "stdout",
     "output_type": "stream",
     "text": [
      "x MNIST/\n",
      "x MNIST/raw/\n",
      "x MNIST/raw/train-labels-idx1-ubyte\n",
      "x MNIST/raw/t10k-labels-idx1-ubyte.gz\n",
      "x MNIST/raw/t10k-labels-idx1-ubyte\n",
      "x MNIST/raw/t10k-images-idx3-ubyte.gz\n",
      "x MNIST/raw/train-images-idx3-ubyte\n",
      "x MNIST/raw/train-labels-idx1-ubyte.gz\n",
      "x MNIST/raw/t10k-images-idx3-ubyte\n",
      "x MNIST/raw/train-images-idx3-ubyte.gz\n",
      "x MNIST/processed/\n",
      "x MNIST/processed/training.pt\n",
      "x MNIST/processed/test.pt\n"
     ]
    }
   ],
   "source": [
    "!tar -zxvf MNIST.tar.gz # unzip the downloaded file"
   ]
  },
  {
   "cell_type": "code",
   "execution_count": 6,
   "metadata": {},
   "outputs": [],
   "source": [
    "# load python modules\n",
    "import torch\n",
    "import torch.nn as nn\n",
    "import torchvision\n",
    "import torchvision.transforms as transforms\n",
    "import matplotlib.pyplot as plt\n",
    "%matplotlib inline "
   ]
  },
  {
   "cell_type": "code",
   "execution_count": 7,
   "metadata": {},
   "outputs": [],
   "source": [
    "# Device configuration\n",
    "device = torch.device('cuda' if torch.cuda.is_available() else 'cpu')\n",
    "\n",
    "# Hyper-parameters \n",
    "input_size = 784\n",
    "hidden_size = 500\n",
    "num_classes = 10\n",
    "num_epochs = 5\n",
    "batch_size = 100\n",
    "learning_rate = 0.001"
   ]
  },
  {
   "cell_type": "markdown",
   "metadata": {},
   "source": [
    "> **Remarks**: `torch.device()` is a class specifying the device for your computational graph. \n",
    "\n",
    "> `torch.device('cuda')` will use gpu on your local machine\n",
    "\n",
    ">`torch.device('cpu')` will use cpu on your local machine\n",
    "\n",
    ">`torch.cuda.is_available()` will check if your local computer has gpu devices."
   ]
  },
  {
   "cell_type": "code",
   "execution_count": 8,
   "metadata": {},
   "outputs": [],
   "source": [
    "## load Mnist dataset\n",
    "\n",
    "# MNIST dataset \n",
    "train_dataset = torchvision.datasets.MNIST(root='./', \n",
    "                                           train=True, \n",
    "                                           transform=transforms.ToTensor())\n",
    "\n",
    "test_dataset = torchvision.datasets.MNIST(root='./', \n",
    "                                          train=False, \n",
    "                                          transform=transforms.ToTensor())\n",
    "\n",
    "# Data loader\n",
    "train_loader = torch.utils.data.DataLoader(dataset=train_dataset, \n",
    "                                           batch_size=batch_size, \n",
    "                                           shuffle=True)\n",
    "\n",
    "test_loader = torch.utils.data.DataLoader(dataset=test_dataset, \n",
    "                                          batch_size=batch_size, \n",
    "                                          shuffle=False)\n"
   ]
  },
  {
   "cell_type": "markdown",
   "metadata": {},
   "source": [
    "> Remarks: `torchvision.datasets()` is a pytorch data set class for MNIST. See how to create a customized pytorch data structure class in [here](https://github.com/yunjey/pytorch-tutorial/blob/master/tutorials/01-basics/pytorch_basics/main.py#L137) \n",
    "\n",
    "> `torch.utils.data.DataLoader` is a data loader that loads data from dataset in a specifed order (shuffle or non shuffle).\n",
    "\n",
    "Let us check the input and the shape of input of MNIST data"
   ]
  },
  {
   "cell_type": "code",
   "execution_count": 9,
   "metadata": {},
   "outputs": [
    {
     "name": "stdout",
     "output_type": "stream",
     "text": [
      "tensor([[[0.0000, 0.0000, 0.0000, 0.0000, 0.0000, 0.0000, 0.0000, 0.0000,\n",
      "          0.0000, 0.0000, 0.0000, 0.0000, 0.0000, 0.0000, 0.0000, 0.0000,\n",
      "          0.0000, 0.0000, 0.0000, 0.0000, 0.0000, 0.0000, 0.0000, 0.0000,\n",
      "          0.0000, 0.0000, 0.0000, 0.0000],\n",
      "         [0.0000, 0.0000, 0.0000, 0.0000, 0.0000, 0.0000, 0.0000, 0.0000,\n",
      "          0.0000, 0.0000, 0.0000, 0.0000, 0.0000, 0.0000, 0.0000, 0.0000,\n",
      "          0.0000, 0.0000, 0.0000, 0.0000, 0.0000, 0.0000, 0.0000, 0.0000,\n",
      "          0.0000, 0.0000, 0.0000, 0.0000],\n",
      "         [0.0000, 0.0000, 0.0000, 0.0000, 0.0000, 0.0000, 0.0000, 0.0000,\n",
      "          0.0000, 0.0000, 0.0000, 0.0000, 0.0000, 0.0000, 0.0000, 0.0000,\n",
      "          0.0000, 0.0000, 0.0000, 0.0000, 0.0000, 0.0000, 0.0000, 0.0000,\n",
      "          0.0000, 0.0000, 0.0000, 0.0000],\n",
      "         [0.0000, 0.0000, 0.0000, 0.0000, 0.0000, 0.0000, 0.0000, 0.0000,\n",
      "          0.0000, 0.0000, 0.0000, 0.0000, 0.0000, 0.0000, 0.0000, 0.0000,\n",
      "          0.0000, 0.0000, 0.0000, 0.0000, 0.0000, 0.0000, 0.0000, 0.0000,\n",
      "          0.0000, 0.0000, 0.0000, 0.0000],\n",
      "         [0.0000, 0.0000, 0.0000, 0.0000, 0.0000, 0.0000, 0.0000, 0.0000,\n",
      "          0.0000, 0.0000, 0.0000, 0.0000, 0.0000, 0.0000, 0.0000, 0.0000,\n",
      "          0.0000, 0.0000, 0.0000, 0.0000, 0.0000, 0.0000, 0.0000, 0.0000,\n",
      "          0.0000, 0.0000, 0.0000, 0.0000],\n",
      "         [0.0000, 0.0000, 0.0000, 0.0000, 0.0000, 0.0000, 0.0000, 0.0000,\n",
      "          0.0000, 0.0000, 0.0000, 0.0000, 0.0000, 0.0000, 0.0000, 0.0510,\n",
      "          0.8314, 0.5137, 0.0000, 0.0000, 0.0000, 0.0000, 0.0000, 0.0000,\n",
      "          0.0000, 0.0000, 0.0000, 0.0000],\n",
      "         [0.0000, 0.0000, 0.0000, 0.0000, 0.0000, 0.0000, 0.0000, 0.0000,\n",
      "          0.0000, 0.0000, 0.0000, 0.0000, 0.0000, 0.0000, 0.0000, 0.4627,\n",
      "          0.9569, 0.4314, 0.1843, 0.0196, 0.0000, 0.0000, 0.0000, 0.0000,\n",
      "          0.0000, 0.0000, 0.0000, 0.0000],\n",
      "         [0.0000, 0.0000, 0.0000, 0.0000, 0.0000, 0.0000, 0.0000, 0.0000,\n",
      "          0.0000, 0.0000, 0.0000, 0.0000, 0.0000, 0.0000, 0.1255, 0.9922,\n",
      "          0.8078, 0.2745, 0.9882, 0.0863, 0.0000, 0.0000, 0.0000, 0.0000,\n",
      "          0.0000, 0.0000, 0.0000, 0.0000],\n",
      "         [0.0000, 0.0000, 0.0000, 0.0000, 0.0000, 0.0000, 0.0000, 0.0000,\n",
      "          0.0000, 0.0000, 0.0000, 0.0000, 0.0000, 0.0000, 0.6157, 0.9922,\n",
      "          0.4392, 0.1725, 0.7608, 0.0863, 0.0000, 0.0000, 0.0000, 0.0000,\n",
      "          0.0000, 0.0000, 0.0000, 0.0000],\n",
      "         [0.0000, 0.0000, 0.0000, 0.0000, 0.0000, 0.0000, 0.0000, 0.0000,\n",
      "          0.0000, 0.0000, 0.0000, 0.0000, 0.0000, 0.5333, 0.9804, 0.9098,\n",
      "          0.1137, 0.7804, 0.9333, 0.0863, 0.0000, 0.0000, 0.0000, 0.0000,\n",
      "          0.0000, 0.0000, 0.0000, 0.0000],\n",
      "         [0.0000, 0.0000, 0.0000, 0.0000, 0.0000, 0.0000, 0.0000, 0.0000,\n",
      "          0.0000, 0.0000, 0.0000, 0.0196, 0.5412, 0.9922, 0.9529, 0.0000,\n",
      "          0.2235, 0.9922, 0.6314, 0.0000, 0.0000, 0.0000, 0.0000, 0.0000,\n",
      "          0.0000, 0.0000, 0.0000, 0.0000],\n",
      "         [0.0000, 0.0000, 0.0000, 0.0000, 0.0000, 0.0000, 0.0000, 0.0000,\n",
      "          0.0000, 0.0000, 0.0196, 0.5333, 0.9882, 0.9882, 0.4588, 0.0000,\n",
      "          0.6314, 0.9882, 0.6275, 0.0000, 0.0000, 0.0000, 0.0000, 0.0000,\n",
      "          0.0000, 0.0000, 0.0000, 0.0000],\n",
      "         [0.0000, 0.0000, 0.0000, 0.0000, 0.0000, 0.0000, 0.0000, 0.0000,\n",
      "          0.0000, 0.0000, 0.2157, 0.9882, 0.9882, 0.6000, 0.0235, 0.0000,\n",
      "          0.6314, 0.9882, 0.3020, 0.2510, 0.2745, 0.3569, 0.6471, 0.0824,\n",
      "          0.0000, 0.0000, 0.0000, 0.0000],\n",
      "         [0.0000, 0.0000, 0.0000, 0.0000, 0.0000, 0.0000, 0.0000, 0.0000,\n",
      "          0.0000, 0.1686, 0.9137, 0.9882, 0.3961, 0.0353, 0.0000, 0.0745,\n",
      "          0.9255, 0.9882, 0.6392, 0.9725, 0.7961, 0.3412, 0.1294, 0.0000,\n",
      "          0.0000, 0.0000, 0.0000, 0.0000],\n",
      "         [0.0000, 0.0000, 0.0000, 0.0000, 0.0000, 0.0000, 0.0000, 0.0000,\n",
      "          0.1686, 0.9020, 0.9922, 0.8235, 0.1490, 0.4549, 0.6588, 0.9137,\n",
      "          0.9882, 0.9882, 0.9882, 0.5765, 0.0431, 0.0000, 0.0000, 0.0000,\n",
      "          0.0000, 0.0000, 0.0000, 0.0000],\n",
      "         [0.0000, 0.0000, 0.0000, 0.0000, 0.0000, 0.0000, 0.0196, 0.2157,\n",
      "          0.9137, 0.9922, 1.0000, 0.9922, 0.9922, 0.9922, 0.9922, 1.0000,\n",
      "          0.9922, 0.8431, 0.2902, 0.0000, 0.0000, 0.0000, 0.0000, 0.0000,\n",
      "          0.0000, 0.0000, 0.0000, 0.0000],\n",
      "         [0.0000, 0.0000, 0.0000, 0.0000, 0.0000, 0.0000, 0.1490, 0.9412,\n",
      "          0.9882, 0.9882, 0.9922, 0.9882, 0.9412, 0.8078, 0.4000, 0.9098,\n",
      "          0.9882, 0.5098, 0.0000, 0.0000, 0.0000, 0.0000, 0.0000, 0.0000,\n",
      "          0.0000, 0.0000, 0.0000, 0.0000],\n",
      "         [0.0000, 0.0000, 0.0000, 0.0000, 0.0000, 0.0000, 0.0000, 0.5255,\n",
      "          0.9412, 0.7412, 0.7216, 0.4314, 0.1961, 0.0000, 0.0000, 0.5412,\n",
      "          0.9882, 0.5922, 0.0000, 0.0000, 0.0000, 0.0000, 0.0000, 0.0000,\n",
      "          0.0000, 0.0000, 0.0000, 0.0000],\n",
      "         [0.0000, 0.0000, 0.0000, 0.0000, 0.0000, 0.0000, 0.0000, 0.0000,\n",
      "          0.1451, 0.0157, 0.0000, 0.0000, 0.0000, 0.0000, 0.0000, 0.5412,\n",
      "          0.9882, 0.2706, 0.0000, 0.0000, 0.0000, 0.0000, 0.0000, 0.0000,\n",
      "          0.0000, 0.0000, 0.0000, 0.0000],\n",
      "         [0.0000, 0.0000, 0.0000, 0.0000, 0.0000, 0.0000, 0.0000, 0.0000,\n",
      "          0.0000, 0.0000, 0.0000, 0.0000, 0.0000, 0.0000, 0.0000, 0.5412,\n",
      "          0.9059, 0.1451, 0.0000, 0.0000, 0.0000, 0.0000, 0.0000, 0.0000,\n",
      "          0.0000, 0.0000, 0.0000, 0.0000],\n",
      "         [0.0000, 0.0000, 0.0000, 0.0000, 0.0000, 0.0000, 0.0000, 0.0000,\n",
      "          0.0000, 0.0000, 0.0000, 0.0000, 0.0000, 0.0000, 0.0000, 0.5451,\n",
      "          0.8118, 0.0000, 0.0000, 0.0000, 0.0000, 0.0000, 0.0000, 0.0000,\n",
      "          0.0000, 0.0000, 0.0000, 0.0000],\n",
      "         [0.0000, 0.0000, 0.0000, 0.0000, 0.0000, 0.0000, 0.0000, 0.0000,\n",
      "          0.0000, 0.0000, 0.0000, 0.0000, 0.0000, 0.0000, 0.0000, 0.5412,\n",
      "          0.9255, 0.1725, 0.0000, 0.0000, 0.0000, 0.0000, 0.0000, 0.0000,\n",
      "          0.0000, 0.0000, 0.0000, 0.0000],\n",
      "         [0.0000, 0.0000, 0.0000, 0.0000, 0.0000, 0.0000, 0.0000, 0.0000,\n",
      "          0.0000, 0.0000, 0.0000, 0.0000, 0.0000, 0.0000, 0.0000, 0.4196,\n",
      "          0.9882, 0.2706, 0.0000, 0.0000, 0.0000, 0.0000, 0.0000, 0.0000,\n",
      "          0.0000, 0.0000, 0.0000, 0.0000],\n",
      "         [0.0000, 0.0000, 0.0000, 0.0000, 0.0000, 0.0000, 0.0000, 0.0000,\n",
      "          0.0000, 0.0000, 0.0000, 0.0000, 0.0000, 0.0000, 0.0000, 0.0588,\n",
      "          0.7922, 0.1725, 0.0000, 0.0000, 0.0000, 0.0000, 0.0000, 0.0000,\n",
      "          0.0000, 0.0000, 0.0000, 0.0000],\n",
      "         [0.0000, 0.0000, 0.0000, 0.0000, 0.0000, 0.0000, 0.0000, 0.0000,\n",
      "          0.0000, 0.0000, 0.0000, 0.0000, 0.0000, 0.0000, 0.0000, 0.0000,\n",
      "          0.4118, 0.2471, 0.0000, 0.0000, 0.0000, 0.0000, 0.0000, 0.0000,\n",
      "          0.0000, 0.0000, 0.0000, 0.0000],\n",
      "         [0.0000, 0.0000, 0.0000, 0.0000, 0.0000, 0.0000, 0.0000, 0.0000,\n",
      "          0.0000, 0.0000, 0.0000, 0.0000, 0.0000, 0.0000, 0.0000, 0.0000,\n",
      "          0.0000, 0.0000, 0.0000, 0.0000, 0.0000, 0.0000, 0.0000, 0.0000,\n",
      "          0.0000, 0.0000, 0.0000, 0.0000],\n",
      "         [0.0000, 0.0000, 0.0000, 0.0000, 0.0000, 0.0000, 0.0000, 0.0000,\n",
      "          0.0000, 0.0000, 0.0000, 0.0000, 0.0000, 0.0000, 0.0000, 0.0000,\n",
      "          0.0000, 0.0000, 0.0000, 0.0000, 0.0000, 0.0000, 0.0000, 0.0000,\n",
      "          0.0000, 0.0000, 0.0000, 0.0000],\n",
      "         [0.0000, 0.0000, 0.0000, 0.0000, 0.0000, 0.0000, 0.0000, 0.0000,\n",
      "          0.0000, 0.0000, 0.0000, 0.0000, 0.0000, 0.0000, 0.0000, 0.0000,\n",
      "          0.0000, 0.0000, 0.0000, 0.0000, 0.0000, 0.0000, 0.0000, 0.0000,\n",
      "          0.0000, 0.0000, 0.0000, 0.0000]]])\n"
     ]
    }
   ],
   "source": [
    "# The input of the 1st data\n",
    "for images, labels in train_loader:\n",
    "    print(images[0]) # print the input data for the 1st data point\n",
    "    break"
   ]
  },
  {
   "cell_type": "code",
   "execution_count": 10,
   "metadata": {},
   "outputs": [
    {
     "name": "stdout",
     "output_type": "stream",
     "text": [
      "torch.Size([1, 28, 28])\n"
     ]
    }
   ],
   "source": [
    "# The input shape of the 1st data\n",
    "for images, labels in train_loader:\n",
    "    print(images[0].shape) # print the input data for the 1st data point\n",
    "    break"
   ]
  },
  {
   "cell_type": "markdown",
   "metadata": {},
   "source": [
    ">**Remarks:** The dimension of input data is 1x28x28, which is a 3 dimensional array. \n",
    "\n",
    "Let us check the output data."
   ]
  },
  {
   "cell_type": "code",
   "execution_count": 11,
   "metadata": {},
   "outputs": [
    {
     "name": "stdout",
     "output_type": "stream",
     "text": [
      "tensor(7)\n",
      "tensor(1)\n",
      "tensor(1)\n",
      "tensor(4)\n",
      "tensor(7)\n"
     ]
    }
   ],
   "source": [
    "# Output for the first 5 data\n",
    "for images, labels in train_loader:\n",
    "    for j in range(5):\n",
    "        print(labels[j]) # print the Output data for the 1st data point\n",
    "    break"
   ]
  },
  {
   "cell_type": "markdown",
   "metadata": {},
   "source": [
    ">**Remarks:** The output is 1 dimensional integer data in the range of 0~9.\n",
    "\n",
    "Let us visualize the input data to get some insights:"
   ]
  },
  {
   "cell_type": "code",
   "execution_count": 12,
   "metadata": {},
   "outputs": [
    {
     "data": {
      "image/png": "[encoded data removed]",
      "text/plain": [
       "<Figure size 540x288 with 10 Axes>"
      ]
     },
     "metadata": {
      "needs_background": "light"
     },
     "output_type": "display_data"
    }
   ],
   "source": [
    "## plot the first 10 data in the dataset\n",
    "for images, labels in train_loader:\n",
    "    num_row = 2\n",
    "    num_col = 5\n",
    "    fig, axes = plt.subplots(num_row, num_col, \n",
    "                             figsize=(1.5*num_col,2*num_row))\n",
    "    for i in range(10):\n",
    "        ax = axes[i//num_col, i%num_col]\n",
    "        ax.imshow(images[i][0], cmap='gray')\n",
    "        ax.set_title('Label: {}'.format(labels[i]))\n",
    "    plt.tight_layout()\n",
    "    break"
   ]
  },
  {
   "cell_type": "markdown",
   "metadata": {},
   "source": [
    ">**Remarks:** The input data is easy for a human to recognize, but it is extremely hard for a machine to recognize. So our job is to endow the machine with the ability to understand the relationship between the numbers of input and output data.\n"
   ]
  },
  {
   "cell_type": "markdown",
   "metadata": {},
   "source": [
    "## 3.3 Feedforward Neural Network"
   ]
  },
  {
   "cell_type": "markdown",
   "metadata": {},
   "source": [
    "Now let us see how to create a feedforward neural network:"
   ]
  },
  {
   "cell_type": "code",
   "execution_count": 13,
   "metadata": {},
   "outputs": [],
   "source": [
    "# Fully connected neural network with one hidden layer\n",
    "class NeuralNet(nn.Module):\n",
    "    def __init__(self, input_size, hidden_size, num_classes):\n",
    "        super(NeuralNet, self).__init__()\n",
    "        self.fc1 = nn.Linear(input_size, hidden_size)# Linear Layer\n",
    "        self.relu = nn.ReLU() # RelU Function\n",
    "        self.fc2 = nn.Linear(hidden_size, num_classes)  \n",
    "    \n",
    "    def forward(self, x): # x is input\n",
    "        out = self.fc1(x)\n",
    "        out = self.relu(out)\n",
    "        out = self.fc2(out)\n",
    "        return out\n"
   ]
  },
  {
   "cell_type": "markdown",
   "metadata": {},
   "source": [
    "> **Remarks:** We create a customized class which inherits the parent class `nn.Module`.\n",
    "\n",
    "> To create a custimized neural network, you need to specify the `__init__` function and `forward` function. \n",
    "\n",
    ">`__init__` function will be called once when the class is initialized. Here we created two fully-connected layers using `nn.Linear()`. And we created a [ReLU](https://en.wikipedia.org/wiki/Rectifier_(neural_networks)) function.\n",
    "\n",
    ">`forward` function will build a computational graph of your feedforward neural network. "
   ]
  },
  {
   "cell_type": "code",
   "execution_count": 14,
   "metadata": {},
   "outputs": [],
   "source": [
    "## create instances\n",
    "model = NeuralNet(input_size, hidden_size, num_classes).to(device)\n",
    "\n",
    "# Loss and optimizer\n",
    "criterion = nn.CrossEntropyLoss()\n",
    "optimizer = torch.optim.Adam(model.parameters(), lr=learning_rate) "
   ]
  },
  {
   "cell_type": "markdown",
   "metadata": {},
   "source": [
    "> **Remarks:** Here we creates instances. \n",
    "    \n",
    "> `.to(device)` is a attribute function that assign the net to specify device ('CPU' or 'GPU')\n",
    "\n",
    "> `nn.CrossEntropyLoss()` is a cross entropy loss class. Here is the [video](https://www.youtube.com/watch?v=IVVVjBSk9N0) to explain loss functions by Siraj Raval\n",
    "\n",
    ">`torch.optim.Adam()` is the class for Adam Optimizer. Adam is a popular optimizer for deep learning. Here is the [video](https://www.youtube.com/watch?v=mdKjMPmcWjY) to explain how the optimizer works and the comparison among optimizers."
   ]
  },
  {
   "cell_type": "markdown",
   "metadata": {},
   "source": [
    "Now we define a function to evaluate our neural network performance on test dataset:"
   ]
  },
  {
   "cell_type": "code",
   "execution_count": 15,
   "metadata": {},
   "outputs": [],
   "source": [
    "def evaluate():\n",
    "# Test the model\n",
    "# In test phase, we don't need to compute gradients (for memory efficiency)\n",
    "    with torch.no_grad():\n",
    "        correct = 0\n",
    "        total = 0\n",
    "        for images, labels in test_loader:\n",
    "            images = images.reshape(-1, 28*28).to(device)\n",
    "            labels = labels.to(device)\n",
    "            outputs = model(images)\n",
    "            _, predicted = torch.max(outputs.data, 1)\n",
    "            total += labels.size(0)\n",
    "            correct += (predicted == labels).sum().item()\n",
    "\n",
    "        print('Accuracy of the network on the 10000 test images: {} %'.format(100 * correct / total))\n"
   ]
  },
  {
   "cell_type": "code",
   "execution_count": 16,
   "metadata": {},
   "outputs": [
    {
     "name": "stdout",
     "output_type": "stream",
     "text": [
      "Accuracy of the network on the 10000 test images: 7.51 %\n"
     ]
    }
   ],
   "source": [
    "evaluate()"
   ]
  },
  {
   "cell_type": "markdown",
   "metadata": {},
   "source": [
    "Looks terrible for the accuracy of our neural network! Because we initialize the parameters with random numbers and they have not been trained. To improve the accuracy, we need to learn the parameters using optimization:"
   ]
  },
  {
   "cell_type": "code",
   "execution_count": 17,
   "metadata": {},
   "outputs": [
    {
     "name": "stdout",
     "output_type": "stream",
     "text": [
      "Epoch [1/5], Step [100/600], Loss: 0.3365\n",
      "Epoch [1/5], Step [200/600], Loss: 0.2702\n",
      "Epoch [1/5], Step [300/600], Loss: 0.2808\n",
      "Epoch [1/5], Step [400/600], Loss: 0.2154\n",
      "Epoch [1/5], Step [500/600], Loss: 0.1729\n",
      "Epoch [1/5], Step [600/600], Loss: 0.1362\n",
      "Epoch [2/5], Step [100/600], Loss: 0.1573\n",
      "Epoch [2/5], Step [200/600], Loss: 0.1730\n",
      "Epoch [2/5], Step [300/600], Loss: 0.0896\n",
      "Epoch [2/5], Step [400/600], Loss: 0.2349\n",
      "Epoch [2/5], Step [500/600], Loss: 0.0870\n",
      "Epoch [2/5], Step [600/600], Loss: 0.0406\n",
      "Epoch [3/5], Step [100/600], Loss: 0.1594\n",
      "Epoch [3/5], Step [200/600], Loss: 0.0368\n",
      "Epoch [3/5], Step [300/600], Loss: 0.0396\n",
      "Epoch [3/5], Step [400/600], Loss: 0.0227\n",
      "Epoch [3/5], Step [500/600], Loss: 0.0409\n",
      "Epoch [3/5], Step [600/600], Loss: 0.1257\n",
      "Epoch [4/5], Step [100/600], Loss: 0.0441\n",
      "Epoch [4/5], Step [200/600], Loss: 0.0597\n",
      "Epoch [4/5], Step [300/600], Loss: 0.0466\n",
      "Epoch [4/5], Step [400/600], Loss: 0.0399\n",
      "Epoch [4/5], Step [500/600], Loss: 0.0608\n",
      "Epoch [4/5], Step [600/600], Loss: 0.0195\n",
      "Epoch [5/5], Step [100/600], Loss: 0.0412\n",
      "Epoch [5/5], Step [200/600], Loss: 0.0195\n",
      "Epoch [5/5], Step [300/600], Loss: 0.0315\n",
      "Epoch [5/5], Step [400/600], Loss: 0.0277\n",
      "Epoch [5/5], Step [500/600], Loss: 0.0258\n",
      "Epoch [5/5], Step [600/600], Loss: 0.0215\n"
     ]
    }
   ],
   "source": [
    "# Train the model\n",
    "total_step = len(train_loader)\n",
    "for epoch in range(num_epochs):\n",
    "    for i, (images, labels) in enumerate(train_loader):  \n",
    "        # Move tensors to the configured device\n",
    "        images = images.reshape(-1, 28*28).to(device)\n",
    "        labels = labels.to(device)\n",
    "        \n",
    "        # Forward pass\n",
    "        outputs = model(images)\n",
    "        loss = criterion(outputs, labels)\n",
    "        \n",
    "        # Backward and optimize\n",
    "        optimizer.zero_grad()\n",
    "        loss.backward()\n",
    "        optimizer.step()\n",
    "        \n",
    "        if (i+1) % 100 == 0:\n",
    "            print ('Epoch [{}/{}], Step [{}/{}], Loss: {:.4f}' \n",
    "                   .format(epoch+1, num_epochs, i+1, total_step, \n",
    "                           loss.item()))"
   ]
  },
  {
   "cell_type": "code",
   "execution_count": 18,
   "metadata": {},
   "outputs": [
    {
     "name": "stdout",
     "output_type": "stream",
     "text": [
      "Accuracy of the network on the 10000 test images: 97.85 %\n"
     ]
    }
   ],
   "source": [
    "evaluate()"
   ]
  },
  {
   "cell_type": "markdown",
   "metadata": {},
   "source": [
    "Now you see that the accuracy up to 97% after optimzation.\n",
    "\n",
    "To save or load the model you can call:"
   ]
  },
  {
   "cell_type": "code",
   "execution_count": 19,
   "metadata": {},
   "outputs": [
    {
     "data": {
      "text/plain": [
       "<All keys matched successfully>"
      ]
     },
     "execution_count": 19,
     "metadata": {},
     "output_type": "execute_result"
    }
   ],
   "source": [
    "# Save the model checkpoint\n",
    "torch.save(model.state_dict(), 'model.ckpt') # save model parameters\n",
    "model.load_state_dict(torch.load('model.ckpt')) # load model parameters"
   ]
  },
  {
   "cell_type": "markdown",
   "metadata": {},
   "source": [
    "## 3.5 Convolution Neural Network"
   ]
  },
  {
   "cell_type": "markdown",
   "metadata": {},
   "source": [
    "Most generally, we can think of a CNN as an artificial neural network that has some type of specialization for being able to pick out or detect patterns. This pattern detection is what makes CNNs so useful for image analysis.\n",
    "\n",
    "If a CNN is just an artificial neural network, though, then what differentiates it from a standard multilayer perceptron or MLP?\n",
    "\n",
    "CNNs have hidden layers called convolutional layers, and these layers are what make a CNN, well... a CNN!\n",
    "\n",
    ">CNNs have layers called convolutional layers.\n",
    "\n",
    "Here is the [video](https://youtu.be/YRhxdVk_sIs) explaining what CNN is.\n",
    "\n",
    "#### Convolutional Layer\n",
    "With a convolutional layer, the transformation that occurs is called a convolution operation. This is the term that's used by the deep learning community anyway. Mathematically, the convolution operations performed by convolutional layers are actually called [cross-correlations](https://en.wikipedia.org/wiki/Cross-correlation).\n",
    "\n",
    "Convolutional Layer serves as a filter that detects the pattern in the feature input. Here is the [video](https://youtu.be/cNBBNAxC8l4) to explain how the CNN works as the filter. And you can also play the interactive [demo](https://deeplizard.com/resource/pavq7noze2).\n"
   ]
  },
  {
   "cell_type": "code",
   "execution_count": 25,
   "metadata": {},
   "outputs": [],
   "source": [
    "class ConvNet(nn.Module):\n",
    "    def __init__(self, num_classes=10):\n",
    "        super(ConvNet, self).__init__()\n",
    "        self.layer1 = nn.Sequential(\n",
    "            nn.Conv2d(1, 16, kernel_size=5, stride=1, padding=2),\n",
    "            nn.BatchNorm2d(16),\n",
    "            nn.ReLU(),\n",
    "            nn.MaxPool2d(kernel_size=2, stride=2))\n",
    "        self.layer2 = nn.Sequential(\n",
    "            nn.Conv2d(16, 32, kernel_size=5, stride=1, padding=2),\n",
    "            nn.BatchNorm2d(32),\n",
    "            nn.ReLU(),\n",
    "            nn.MaxPool2d(kernel_size=2, stride=2))\n",
    "        self.fc = nn.Linear(7*7*32, num_classes)\n",
    "        \n",
    "    def forward(self, x):\n",
    "        out = self.layer1(x)\n",
    "        out = self.layer2(out)\n",
    "        out = out.reshape(out.size(0), -1)\n",
    "        out = self.fc(out)\n",
    "        return out"
   ]
  },
  {
   "cell_type": "markdown",
   "metadata": {},
   "source": [
    "> **Remarks:** `nn.Conv2d()` is the pytorch class for the convolutional layer. Here you can find [documentation](https://pytorch.org/docs/stable/generated/torch.nn.Conv2d.html)\n",
    "\n",
    "> `nn.BatchNorm2d()` is a batch normalization function. Here are [Documentation](https://pytorch.org/docs/stable/generated/torch.nn.BatchNorm2d.html) and [video](https://youtu.be/dXB-KQYkzNU) explaination.\n",
    "\n",
    "> `MaxPool2d()` is a MaxPool function. Here are [Documentation](https://pytorch.org/docs/stable/generated/torch.nn.MaxPool2d.html) and [video](https://youtu.be/ZjM_XQa5s6s) explaination.\n",
    "\n",
    ">`nn.Sequential()` is a sequential container that build computational graph with layers in sequential order. Here is the api [documentation](https://pytorch.org/docs/stable/generated/torch.nn.Sequential.html)\n",
    "\n",
    "Now we can create instances and train the cnn with optimization. The process is similar to that of a feedforward neural network."
   ]
  },
  {
   "cell_type": "code",
   "execution_count": 26,
   "metadata": {},
   "outputs": [],
   "source": [
    "## Create Instances\n",
    "\n",
    "model = ConvNet(num_classes).to(device)\n",
    "\n",
    "# Loss and optimizer\n",
    "criterion = nn.CrossEntropyLoss()\n",
    "optimizer = torch.optim.Adam(model.parameters(), lr=learning_rate)"
   ]
  },
  {
   "cell_type": "code",
   "execution_count": 27,
   "metadata": {},
   "outputs": [
    {
     "name": "stdout",
     "output_type": "stream",
     "text": [
      "Epoch [1/5], Step [100/600], Loss: 0.1478\n",
      "Epoch [1/5], Step [200/600], Loss: 0.0533\n",
      "Epoch [1/5], Step [300/600], Loss: 0.0698\n",
      "Epoch [1/5], Step [400/600], Loss: 0.0369\n",
      "Epoch [1/5], Step [500/600], Loss: 0.0192\n",
      "Epoch [1/5], Step [600/600], Loss: 0.0689\n",
      "Epoch [2/5], Step [100/600], Loss: 0.0132\n",
      "Epoch [2/5], Step [200/600], Loss: 0.0157\n",
      "Epoch [2/5], Step [300/600], Loss: 0.0359\n",
      "Epoch [2/5], Step [400/600], Loss: 0.0082\n",
      "Epoch [2/5], Step [500/600], Loss: 0.1542\n",
      "Epoch [2/5], Step [600/600], Loss: 0.0217\n",
      "Epoch [3/5], Step [100/600], Loss: 0.0319\n",
      "Epoch [3/5], Step [200/600], Loss: 0.0086\n",
      "Epoch [3/5], Step [300/600], Loss: 0.0269\n",
      "Epoch [3/5], Step [400/600], Loss: 0.0140\n",
      "Epoch [3/5], Step [500/600], Loss: 0.0705\n",
      "Epoch [3/5], Step [600/600], Loss: 0.0114\n",
      "Epoch [4/5], Step [100/600], Loss: 0.0204\n",
      "Epoch [4/5], Step [200/600], Loss: 0.1101\n",
      "Epoch [4/5], Step [300/600], Loss: 0.1190\n",
      "Epoch [4/5], Step [400/600], Loss: 0.0834\n",
      "Epoch [4/5], Step [500/600], Loss: 0.0265\n",
      "Epoch [4/5], Step [600/600], Loss: 0.0493\n",
      "Epoch [5/5], Step [100/600], Loss: 0.0034\n",
      "Epoch [5/5], Step [200/600], Loss: 0.0650\n",
      "Epoch [5/5], Step [300/600], Loss: 0.0505\n",
      "Epoch [5/5], Step [400/600], Loss: 0.0373\n",
      "Epoch [5/5], Step [500/600], Loss: 0.0433\n",
      "Epoch [5/5], Step [600/600], Loss: 0.1353\n"
     ]
    }
   ],
   "source": [
    "# Train the model\n",
    "total_step = len(train_loader)\n",
    "for epoch in range(num_epochs):\n",
    "    for i, (images, labels) in enumerate(train_loader):\n",
    "        images = images.to(device)\n",
    "        labels = labels.to(device)\n",
    "        \n",
    "        # Forward pass\n",
    "        outputs = model(images)\n",
    "        loss = criterion(outputs, labels)\n",
    "        \n",
    "        # Backward and optimize\n",
    "        optimizer.zero_grad()\n",
    "        loss.backward()\n",
    "        optimizer.step()\n",
    "        \n",
    "        if (i+1) % 100 == 0:\n",
    "            print ('Epoch [{}/{}], Step [{}/{}], Loss: {:.4f}' \n",
    "                   .format(epoch+1, num_epochs, i+1, total_step, loss.item()))"
   ]
  },
  {
   "cell_type": "code",
   "execution_count": 28,
   "metadata": {},
   "outputs": [
    {
     "name": "stdout",
     "output_type": "stream",
     "text": [
      "Test Accuracy of the model on the 10000 test images: 99.02 %\n"
     ]
    }
   ],
   "source": [
    "model.eval()  # eval mode (batchnorm uses moving mean/variance instead of mini-batch mean/variance)\n",
    "def evaluate():\n",
    "    with torch.no_grad():\n",
    "        correct = 0\n",
    "        total = 0\n",
    "        for images, labels in test_loader:\n",
    "            images = images.to(device)\n",
    "            labels = labels.to(device)\n",
    "            outputs = model(images)\n",
    "            _, predicted = torch.max(outputs.data, 1)\n",
    "            total += labels.size(0)\n",
    "            correct += (predicted == labels).sum().item()\n",
    "    print('Test Accuracy of the model on the 10000 test images: {} %'.format(100 * correct / total))\n",
    "evaluate()"
   ]
  },
  {
   "cell_type": "markdown",
   "metadata": {},
   "source": [
    "The accuracy of CNN is slightly better than the feedforward neural network. In fact CNN will outperform feedforward net when the size image is large.\n",
    "\n",
    "Congratulation! You finish the pytorch tutorial."
   ]
  },
  {
   "cell_type": "markdown",
   "metadata": {},
   "source": [
    "## Project Homework\n",
    "\n",
    "1. watch the following videos to understand cnn:\n",
    "\n",
    "\n",
    "- [CNN explaination](https://www.youtube.com/watch?v=cNBBNAxC8l4)\n",
    "- [CNN interactive demo](https://www.youtube.com/watch?v=vJiZqZRkIg8&list=PLZbbT5o_s2xq7LwI2y8_QtvuXZedL6tQU&index=20)\n",
    "- [CNN visualization](https://www.youtube.com/watch?v=cNBBNAxC8l4&list=PLZbbT5o_s2xq7LwI2y8_QtvuXZedL6tQU&index=21)\n",
    "- [zero padding](https://www.youtube.com/watch?v=qSTv_m-KFk0&list=PLZbbT5o_s2xq7LwI2y8_QtvuXZedL6tQU&index=22)\n",
    "- [Max Pool](https://www.youtube.com/watch?v=ZjM_XQa5s6s&list=PLZbbT5o_s2xq7LwI2y8_QtvuXZedL6tQU&index=23)\n",
    "\n",
    "    Watch the rest of tutorial series (optional):\n",
    "\n",
    "- [CNN full tutorial series](https://www.youtube.com/playlist?list=PLZbbT5o_s2xq7LwI2y8_QtvuXZedL6tQU)\n",
    "\n",
    "<br>\n",
    "\n",
    "2. code the homework file `submission1_cnn.py`\n",
    "   \n",
    "\n",
    "    search: `#TODO` in the file to find the coding part.\n",
    "\n"
   ]
  },
  {
   "cell_type": "markdown",
   "metadata": {},
   "source": [
    "## Reference"
   ]
  },
  {
   "cell_type": "markdown",
   "metadata": {},
   "source": [
    "[1] [DEEPLIZARD Pytorch Tutorial](https://deeplizard.com/learn/video/iTKbyFh-7GM)\n",
    "\n",
    "[2] [yunjey pytorch-tutorial](https://github.com/yunjey/pytorch-tutorial)\n",
    "\n",
    "[3] [Optimizers video](https://www.youtube.com/watch?v=mdKjMPmcWjY)\n",
    "\n",
    "[4] [Loss Function video](https://www.youtube.com/watch?v=IVVVjBSk9N0)"
   ]
  }
 ],
 "metadata": {
  "interpreter": {
   "hash": "f0c613cfc52d479f3fb3296d58ff410845811e8b4bf79443ced997dfd5af1ff8"
  },
  "kernelspec": {
   "display_name": "torch",
   "language": "python",
   "name": "torch"
  },
  "language_info": {
   "codemirror_mode": {
    "name": "ipython",
    "version": 3
   },
   "file_extension": ".py",
   "mimetype": "text/x-python",
   "name": "python",
   "nbconvert_exporter": "python",
   "pygments_lexer": "ipython3",
   "version": "3.6.13"
  }
 },
 "nbformat": 4,
 "nbformat_minor": 4
}
